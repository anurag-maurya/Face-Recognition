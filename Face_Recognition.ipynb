{
  "nbformat": 4,
  "nbformat_minor": 0,
  "metadata": {
    "kernelspec": {
      "display_name": "Python 3",
      "language": "python",
      "name": "python3"
    },
    "language_info": {
      "codemirror_mode": {
        "name": "ipython",
        "version": 3
      },
      "file_extension": ".py",
      "mimetype": "text/x-python",
      "name": "python",
      "nbconvert_exporter": "python",
      "pygments_lexer": "ipython3",
      "version": "3.7.1"
    },
    "colab": {
      "name": "Face Recognition",
      "provenance": []
    }
  },
  "cells": [
    {
      "cell_type": "code",
      "metadata": {
        "id": "SBu8ROzdU15p",
        "colab_type": "code",
        "colab": {
          "base_uri": "https://localhost:8080/",
          "height": 128
        },
        "outputId": "5d27435f-b5d8-4ace-9b5f-22e5494bcd2e"
      },
      "source": [
        "from google.colab import drive\n",
        "drive.mount('/content/drive')"
      ],
      "execution_count": 3,
      "outputs": [
        {
          "output_type": "stream",
          "text": [
            "Go to this URL in a browser: https://accounts.google.com/o/oauth2/auth?client_id=947318989803-6bn6qk8qdgf4n4g3pfee6491hc0brc4i.apps.googleusercontent.com&redirect_uri=urn%3aietf%3awg%3aoauth%3a2.0%3aoob&response_type=code&scope=email%20https%3a%2f%2fwww.googleapis.com%2fauth%2fdocs.test%20https%3a%2f%2fwww.googleapis.com%2fauth%2fdrive%20https%3a%2f%2fwww.googleapis.com%2fauth%2fdrive.photos.readonly%20https%3a%2f%2fwww.googleapis.com%2fauth%2fpeopleapi.readonly\n",
            "\n",
            "Enter your authorization code:\n",
            "··········\n",
            "Mounted at /content/drive\n"
          ],
          "name": "stdout"
        }
      ]
    },
    {
      "cell_type": "code",
      "metadata": {
        "id": "pAENGb6BUJhw",
        "colab_type": "code",
        "colab": {}
      },
      "source": [
        "import cv2\n",
        "import os\n",
        "import numpy as np\n",
        "%matplotlib inline\n",
        "from matplotlib import pyplot as plt"
      ],
      "execution_count": 0,
      "outputs": []
    },
    {
      "cell_type": "code",
      "metadata": {
        "id": "K544POrpUJh4",
        "colab_type": "code",
        "colab": {}
      },
      "source": [
        "def faceDetection(test_img):\n",
        "    gray_img=cv2.cvtColor(test_img,cv2.COLOR_BGR2GRAY)\n",
        "    faces_haar_cascade=cv2.CascadeClassifier('drive/My Drive/face_recognition/haarcascade_frontalface_default.xml')\n",
        "    faces=faces_haar_cascade.detectMultiScale(gray_img,scaleFactor=1.3,minNeighbors=5)\n",
        "    \n",
        "    return faces,gray_img"
      ],
      "execution_count": 0,
      "outputs": []
    },
    {
      "cell_type": "code",
      "metadata": {
        "id": "oKRX510LUJh8",
        "colab_type": "code",
        "colab": {}
      },
      "source": [
        "def labels_for_training_data(directory):\n",
        "    faces=[]\n",
        "    faceID=[]\n",
        "    \n",
        "    for path,subdirnames,filenames in os.walk(directory):\n",
        "        for filename in filenames:\n",
        "            if filename.startswith(\".\"):\n",
        "                continue\n",
        "            \n",
        "            id = os.path.basename(path)\n",
        "            img_path=os.path.join(path,filename)\n",
        "\n",
        "            test_img=cv2.imread(img_path)\n",
        "            if test_img is None:\n",
        "                continue\n",
        "            faces_rect,gray_img=faceDetection(test_img)\n",
        "            if len(faces_rect)!=1:\n",
        "                continue\n",
        "            (x,y,w,h)=faces_rect[0]\n",
        "            roi_gray=test_img[y:y+h,x:x+w]\n",
        "            print(\"img path: \",img_path)\n",
        "            print(\"ID\",id)\n",
        "            gray_img=cv2.cvtColor(roi_gray,cv2.COLOR_BGR2GRAY)\n",
        "            faces.append(gray_img)\n",
        "            faceID.append(int(id))\n",
        "    \n",
        "    return faces,faceID\n"
      ],
      "execution_count": 0,
      "outputs": []
    },
    {
      "cell_type": "code",
      "metadata": {
        "id": "K2yi_eG7UJiA",
        "colab_type": "code",
        "colab": {}
      },
      "source": [
        "def train_classifier(faces,faceID):\n",
        "    face_recognizer=cv2.face.LBPHFaceRecognizer_create()\n",
        "    face_recognizer.train(faces,np.array(faceID))\n",
        "  #  face_recognizer.train(faces,faceID)\n",
        "    return face_recognizer\n"
      ],
      "execution_count": 0,
      "outputs": []
    },
    {
      "cell_type": "code",
      "metadata": {
        "id": "OH-DbRrYUJiF",
        "colab_type": "code",
        "colab": {}
      },
      "source": [
        "def draw_rect(test_img,face):\n",
        "    (x,y,w,h)=face\n",
        "    cv2.rectangle(test_img,(x,y),(x+w,y+h),(255,0,0),thickness=3)"
      ],
      "execution_count": 0,
      "outputs": []
    },
    {
      "cell_type": "code",
      "metadata": {
        "id": "Xe1FXdLtUJiP",
        "colab_type": "code",
        "colab": {}
      },
      "source": [
        "faces,faceID=labels_for_training_data('drive/My Drive/face_recognition/photo')\n",
        "face_recognizer=train_classifier(faces,faceID)\n",
        "#face_reognizer.save('trainingData.yml')\n",
        "name={0:'Kusum',1:'Priya'}"
      ],
      "execution_count": 0,
      "outputs": []
    },
    {
      "cell_type": "code",
      "metadata": {
        "id": "1c8ezKuEUJiK",
        "colab_type": "code",
        "colab": {}
      },
      "source": [
        "face_recognizer1=cv2.face.LBPHFaceRecognizer_create()\n",
        "#face_recognizer1 = cv2.face.createLBPHFaceRecognizer()\n",
        "test_img=cv2.imread('drive/My Drive/face_recognition/Kusum/7.jpg')\n",
        "face_detected,gray_img=faceDetection(test_img)\n",
        "plt.imshow(gray_img)\n",
        "print(\"Detected face\",face_detected)"
      ],
      "execution_count": 0,
      "outputs": []
    },
    {
      "cell_type": "code",
      "metadata": {
        "id": "BWzyyaGbUJia",
        "colab_type": "code",
        "colab": {}
      },
      "source": [
        "\n",
        "for face in face_detected:\n",
        "    (x,y,w,h)=face\n",
        "    roi_img=gray_img[y:y+h,x:x+w]\n",
        "    label,confidence=face_recognizer.predict(roi_img)\n",
        "    print('confidence:',confidence)\n",
        "    print('label:',label)\n",
        "    draw_rect(test_img,face)\n",
        "    predicted_name=name[label]\n",
        "    cv2.putText(test_img,predicted_name,(x,y),cv2.FONT_HERSHEY_DUPLEX,2,(255,0,0),3)\n",
        "     \n",
        "    \n",
        "resized_img=cv2.resize(test_img,(700,700))\n",
        "plt.imshow(resized_img)\n"
      ],
      "execution_count": 0,
      "outputs": []
    },
    {
      "cell_type": "markdown",
      "metadata": {
        "id": "uwwYCzGGfTIb",
        "colab_type": "text"
      },
      "source": [
        ""
      ]
    },
    {
      "cell_type": "code",
      "metadata": {
        "id": "hW4exLLleXkR",
        "colab_type": "code",
        "colab": {}
      },
      "source": [
        ""
      ],
      "execution_count": 0,
      "outputs": []
    }
  ]
}